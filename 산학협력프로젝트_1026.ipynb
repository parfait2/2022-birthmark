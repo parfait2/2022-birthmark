{
  "nbformat": 4,
  "nbformat_minor": 0,
  "metadata": {
    "colab": {
      "provenance": [],
      "include_colab_link": true
    },
    "kernelspec": {
      "name": "python3",
      "display_name": "Python 3"
    },
    "language_info": {
      "name": "python"
    }
  },
  "cells": [
    {
      "cell_type": "markdown",
      "metadata": {
        "id": "view-in-github",
        "colab_type": "text"
      },
      "source": [
        "<a href=\"https://colab.research.google.com/github/parfait2/2022-birthmark/blob/main/%EC%82%B0%ED%95%99%ED%98%91%EB%A0%A5%ED%94%84%EB%A1%9C%EC%A0%9D%ED%8A%B8_1026.ipynb\" target=\"_parent\"><img src=\"https://colab.research.google.com/assets/colab-badge.svg\" alt=\"Open In Colab\"/></a>"
      ]
    },
    {
      "cell_type": "code",
      "source": [
        "import cv2\n",
        "from google.colab.patches import cv2_imshow\n",
        "import math\n",
        "import matplotlib.pyplot as plt\n",
        "import numpy as np\n",
        "import scipy.optimize\n",
        "import sys, random\n",
        "from PIL import Image\n",
        "\n",
        "# 이미지 대조 기법 적용.\n",
        "def img_Contrast(img):\n",
        "    # -----Converting image to LAB Color model-----------------------------------\n",
        "    lab = cv2.cvtColor(img, cv2.COLOR_BGR2LAB)\n",
        "\n",
        "    # -----Splitting the LAB image to different channels-------------------------\n",
        "    l, a, b = cv2.split(lab)\n",
        "\n",
        "    # -----Applying CLAHE to L-channel-------------------------------------------\n",
        "    clahe = cv2.createCLAHE(clipLimit=3.0, tileGridSize=(8, 8))\n",
        "\n",
        "    cl = clahe.apply(l)\n",
        "\n",
        "    # -----Merge the CLAHE enhanced L-channel with the a and b channel-----------\n",
        "    limg = cv2.merge((cl, a, b))\n",
        "\n",
        "    # -----Converting image from LAB Color model to RGB model--------------------\n",
        "    final = cv2.cvtColor(limg, cv2.COLOR_LAB2BGR)\n",
        "    return final\n",
        "\n",
        "# 검출한 컨투어 좌표를 얻는 함수.\n",
        "def get_contour_list(img):\n",
        "    img_gray = cv2.cvtColor(img, cv2.IMREAD_GRAYSCALE)\n",
        "    deep = img_Contrast(img_gray)\n",
        "\n",
        "    blur = cv2.bilateralFilter(deep, 10, 50, 50)\n",
        "    ret, thresh1 = cv2.threshold(blur, 127, 255, cv2.THRESH_BINARY)\n",
        "\n",
        "    edged = cv2.Canny(blur, 200, 240) # 경계선 찾는 함수(모서리 외곽 찾기)\n",
        "    kernel = cv2.getStructuringElement(cv2.MORPH_RECT, (7,7))\n",
        "    closed = cv2.morphologyEx(edged, cv2.MORPH_CLOSE, kernel)\n",
        "\n",
        "    contours, _ = cv2.findContours(closed.copy(),cv2.RETR_EXTERNAL, cv2.CHAIN_APPROX_SIMPLE)\n",
        "    filtered_contours = []\n",
        "    for contour in contours:\n",
        "        x_length, y_length = (np.max(contour, axis=0) - np.min(contour, axis=0))[0]\n",
        "        if cv2.contourArea(contour) > ((x_length) * (y_length)) / 2:\n",
        "            filtered_contours.append(contour)\n",
        "\n",
        "    return filtered_contours\n",
        "\n",
        "#점(contour)들의 무게중심을 구하는 함수\n",
        "def get_center_list(contour_list):\n",
        "    center_list = []\n",
        "    for contour in contour_list:\n",
        "        M = cv2.moments(contour)\n",
        "        if M[\"m00\"] != 0:\n",
        "            cx = int(M[\"m10\"] / M[\"m00\"]) #무게중심을 구하는 공식\n",
        "            cy = int(M[\"m01\"] / M[\"m00\"])\n",
        "            center_list.append((cx, cy))\n",
        "\n",
        "    return center_list\n",
        "\n",
        "# 이미지 받아오기\n",
        "time_1_file = \"KakaoTalk_20220727_123918890_01.jpg\"\n",
        "time_2_file = \"KakaoTalk_20220727_123918890.jpg\"\n",
        "\n",
        "time_1_image = cv2.imread(time_1_file)\n",
        "time_2_image = cv2.imread(time_2_file)\n",
        "imgRGB = cv2.cvtColor(time_2_image, cv2.COLOR_BGR2RGB)\n",
        "time_2_image_center = np.array(time_2_image.shape[1::-1]) / 2\n",
        "\n",
        "time_1_contour_list = get_contour_list(time_1_image)\n",
        "time_2_contour_list = get_contour_list(time_2_image)\n",
        "\n",
        "time_1_center_list = get_center_list(time_1_contour_list)\n",
        "time_2_center_list = get_center_list(time_2_contour_list)\n",
        "\n",
        "print(\"background rgb : \", imgRGB[0][0])\n",
        "\n",
        "def rotate_points(points, center_loc, degree):\n",
        "    rad = np.radians(degree)\n",
        "    c, s = np.cos(rad), np.sin(rad)\n",
        "    rotate_matrix = np.array(((c, -s), (s, c)))\n",
        "    rotated_points = (points - np.array(center_loc)).dot(rotate_matrix) + center_loc\n",
        "\n",
        "    return rotated_points\n",
        "\n",
        "def calculate_distance(org_loc_list, new_loc_list):\n",
        "    total_dist = 0\n",
        "    for idx, loc in enumerate(np.array(org_loc_list)):\n",
        "        # 가장 가까운 점과의 거리 계산\n",
        "        smallest_dist = sys.maxsize\n",
        "\n",
        "        for target_loc in np.array(new_loc_list):\n",
        "            dist = np.linalg.norm(target_loc - loc)\n",
        "            if dist < smallest_dist:\n",
        "                smallest_dist = dist\n",
        "\n",
        "        total_dist += smallest_dist\n",
        "\n",
        "    return total_dist\n",
        "\n",
        "def f(params, center_list_1, center_list_2, time_2_image_center):\n",
        "    x_diff, y_diff, degree, expand_ratio = params\n",
        "\n",
        "    center_list_1 = np.array(center_list_1)\n",
        "    center_list_2 = np.array(center_list_2)\n",
        "\n",
        "    modified_center_list = np.array(center_list_2)\n",
        "    # 회전\n",
        "    modified_center_list = rotate_points(modified_center_list, time_2_image_center, degree)\n",
        "    # 확대, 축소\n",
        "    modified_center_list = modified_center_list * expand_ratio\n",
        "    # X, Y 오프셋\n",
        "    modified_center_list = modified_center_list + [x_diff, y_diff]\n",
        "\n",
        "    # 거리 계산\n",
        "    distance = calculate_distance(center_list_1, modified_center_list)\n",
        "    #print(\"distance : \", distance)\n",
        "    return distance\n",
        "\n",
        "# 'Nelder-Mead', 'Powell', 'CG', 'BFGS', 'L-BFGS-B', 'TNC', 'COBYLA', 'SLSQP', 'trust-constr'\n",
        "# 어느 정도 좋은 성능을 보인 method - Powell, trust-constr\n",
        "for method in ['Powell']:\n",
        "    print(method)\n",
        "    result = scipy.optimize.minimize(f, [0, 0, 0, 1], method=method, args=(time_1_center_list, time_2_center_list, time_2_image_center))\n",
        "\n",
        "    print(\"total_distance_diff:\", f\"{result.fun:0.2f}\")\n",
        "\n",
        "    x_diff, y_diff, degree, expand_ratio = result.x\n",
        "    print(\"x_diff:\", int(x_diff))\n",
        "    print(\"y_diff:\", int(y_diff))\n",
        "    print(\"rotation:\", int(degree))\n",
        "    print(\"expand_ratio:\", f\"{expand_ratio:0.2f}\")\n",
        "\n",
        "def rotate_image(image, image_center, degree):\n",
        "    rot_mat = cv2.getRotationMatrix2D(image_center, degree, 1.0)\n",
        "    result = cv2.warpAffine(image, rot_mat, image.shape[1::-1], flags=cv2.INTER_LINEAR)\n",
        "\n",
        "    return result\n",
        "\n",
        "def resize_image(image, expand_ratio):\n",
        "    h, w = image.shape[:2]\n",
        "    resized_image = cv2.resize(image, None, fx=expand_ratio, fy=expand_ratio)\n",
        "    resized_h, resized_w = resized_image.shape[:2]\n",
        "\n",
        "    result = np.zeros((h, w, 3), np.uint8)\n",
        "    result[0:resized_h, 0:resized_w] = resized_image[0:h, 0:w]\n",
        "\n",
        "    return result\n",
        "\n",
        "def shift_image(image, x_shift, y_shift):\n",
        "    h, w = image.shape[:2]\n",
        "    shift_mat = np.float32([[1, 0, x_shift], [0, 1, y_shift]])\n",
        "    result = cv2.warpAffine(image, shift_mat, (w, h))\n",
        "\n",
        "    return result\n",
        "\n",
        "rotated_image = rotate_image(time_2_image, time_2_image_center, degree)\n",
        "resized_image = resize_image(rotated_image, expand_ratio)\n",
        "shifted_image = shift_image(resized_image, x_diff, y_diff)\n",
        "\n",
        "time_2_shifted_contour_list = get_contour_list(shifted_image)\n",
        "time_2_shifted_center_list = get_center_list(time_2_shifted_contour_list)\n",
        "\n",
        "print('--------------------------')\n",
        "print('중심 좌표\\n')\n",
        "print(\"time_1_center_list : \", time_1_center_list)\n",
        "print(\"time_2_center_list : \", time_2_center_list)\n",
        "print(\"time_2_shifted_center_list : \", time_2_shifted_center_list)\n",
        "\n",
        "time_1_center_list = np.array(time_1_center_list)\n",
        "time_2_shifted_center_list = np.array(time_2_shifted_center_list)\n",
        "\n",
        "def find_nearest_vector(array, value):\n",
        "  idx = np.array([np.linalg.norm(x+y) for (x,y) in array-value]).argmin()\n",
        "  return array[idx]\n",
        "\n",
        "print('--------------------------')\n",
        "print('동일한 위치의 점 좌표\\n')\n",
        "\n",
        "# 벡터 배열에서 가장 가까운 벡터 찾기\n",
        "for i in range(len(time_2_shifted_center_list)) :\n",
        "  res = find_nearest_vector(time_1_center_list, time_2_shifted_center_list[i])\n",
        "  dist = np.linalg.norm(res-time_2_shifted_center_list[i])\n",
        "  # print('distance(index[', i, ']) : ', dist)\n",
        "\n",
        "  if dist < 10 :\n",
        "    print('index[',i, ']')\n",
        "    print('기존의 점 좌표(time1) : ', res)\n",
        "    print('현재의 점 좌표(time2) : ', time_2_shifted_center_list[i])\n",
        "\n",
        "    print('기존의 점 색상(time1) ', \" : \", time_1_image[time_1_center_list[i][1]][time_1_center_list[i][0]]) # BGR\n",
        "    print('현재의 점 색상(time2) ', \" : \", shifted_image[time_2_shifted_center_list[i][1]][time_2_shifted_center_list[i][0]]) # BGR\n",
        "\n",
        "    color_img1 = np.full((480,640,3), (time_1_image[time_1_center_list[i][1]][time_1_center_list[i][0]]), dtype=np.uint8)\n",
        "    color_img2 = np.full((480,640,3), (shifted_image[time_2_shifted_center_list[i][1]][time_2_shifted_center_list[i][0]]), dtype=np.uint8)\n",
        "\n",
        "    fig = plt.figure()\n",
        "    rows = 1\n",
        "    cols = 2\n",
        "\n",
        "    ax1 = fig.add_subplot(rows, cols, 1)\n",
        "    ax1.imshow(cv2.cvtColor(color_img1, cv2.COLOR_BGR2RGB))\n",
        "    ax1.set_title('Time1 RGB Color')\n",
        "    ax1.axis(\"off\")\n",
        "\n",
        "    ax2 = fig.add_subplot(rows, cols, 2)\n",
        "    ax2.imshow(cv2.cvtColor(color_img2, cv2.COLOR_BGR2RGB))\n",
        "    ax2.set_title('Time2 RGB Color')\n",
        "    ax2.axis(\"off\")\n",
        "\n",
        "    plt.show()\n",
        "\n",
        "\n",
        "# 예시 : index[8] 출력\n",
        "print('index[',8, ']')\n",
        "\n",
        "res = find_nearest_vector(time_1_center_list, time_2_shifted_center_list[8])\n",
        "dist = np.linalg.norm(res-time_2_shifted_center_list[8])\n",
        "\n",
        "\n",
        "print('기존의 점 좌표(time1) : ', res)\n",
        "print('현재의 점 좌표(time2) : ', time_2_shifted_center_list[8])\n",
        "\n",
        "print('기존의 점 색상(time1) ', \" : \", time_1_image[time_1_center_list[8][1]][time_1_center_list[8][0]]) # BGR\n",
        "print('현재의 점 색상(time2) ', \" : \", shifted_image[time_2_shifted_center_list[8][1]][time_2_shifted_center_list[8][0]]) # BGR\n",
        "\n",
        "\n",
        "\n",
        "plt.imshow(cv2.cvtColor(shifted_image, cv2.COLOR_BGR2RGB))\n",
        "plt.imshow(cv2.cvtColor(time_1_image, cv2.COLOR_BGR2RGB))\n",
        "\n",
        "def rotate_contours(contours, center_loc, degree):\n",
        "    rad = np.radians(degree)\n",
        "    c, s = np.cos(rad), np.sin(rad)\n",
        "    rotate_matrix = np.array(((c, -s), (s, c)))\n",
        "    rotated_points = np.array([(contour - np.array(center_loc)).dot(rotate_matrix) + center_loc for contour in contours], dtype=object)\n",
        "\n",
        "    return rotated_points\n",
        "\n",
        "def transform_contours(contour_list, center_loc, x_diff, y_diff, degree, expand_ratio):\n",
        "    # 회전\n",
        "    modified_contour_list = rotate_contours(contour_list, center_loc, degree)\n",
        "    # 확대, 축소\n",
        "    modified_contour_list = modified_contour_list * expand_ratio\n",
        "    # X, Y 오프셋\n",
        "    modified_contour_list = [contour + [x_diff, y_diff] for contour in modified_contour_list]\n",
        "    # int로 변환\n",
        "    modified_contour_list = [contour.astype(int) for contour in modified_contour_list]\n",
        "\n",
        "    return modified_contour_list\n",
        "\n",
        "transformed_contour_list = transform_contours(time_2_contour_list, time_2_image_center, x_diff, y_diff, degree, expand_ratio)\n",
        "\n",
        "plt.figure(figsize=(24, 24))\n",
        "contours_img = cv2.drawContours(time_1_image, transformed_contour_list, -1, (0, 255, 0), 1)\n",
        "plt.imshow(cv2.cvtColor(contours_img, cv2.COLOR_BGR2RGB))"
      ],
      "metadata": {
        "id": "Jrp94F8c-icF",
        "colab": {
          "base_uri": "https://localhost:8080/",
          "height": 1000
        },
        "outputId": "b669d1e9-10ef-49f1-9d54-5cf9c53dc8b8"
      },
      "execution_count": null,
      "outputs": [
        {
          "output_type": "stream",
          "name": "stdout",
          "text": [
            "background rgb :  [255 224 196]\n",
            "Powell\n",
            "total_distance_diff: 16.72\n",
            "x_diff: 0\n",
            "y_diff: 0\n",
            "rotation: 0\n",
            "expand_ratio: 1.00\n",
            "--------------------------\n",
            "중심 좌표\n",
            "\n",
            "time_1_center_list :  [(218, 372), (331, 368), (545, 299), (201, 294), (431, 260), (120, 252), (252, 186), (575, 150), (103, 109), (463, 101), (302, 80)]\n",
            "time_2_center_list :  [(218, 374), (333, 369), (545, 299), (204, 294), (428, 263), (118, 254), (252, 186), (576, 151), (103, 109), (462, 101), (302, 80)]\n",
            "time_2_shifted_center_list :  [(218, 374), (333, 369), (545, 299), (204, 294), (428, 263), (118, 254), (252, 186), (576, 151), (103, 109), (462, 101), (302, 80)]\n",
            "--------------------------\n",
            "동일한 위치의 점 좌표\n",
            "\n",
            "index[ 0 ]\n",
            "기존의 점 좌표(time1) :  [218 372]\n",
            "현재의 점 좌표(time2) :  [218 374]\n",
            "기존의 점 색상(time1)   :  [7 2 3]\n",
            "현재의 점 색상(time2)   :  [0 1 0]\n"
          ]
        },
        {
          "output_type": "display_data",
          "data": {
            "text/plain": [
              "<Figure size 432x288 with 2 Axes>"
            ],
            "image/png": "[encoded data removed]"
          },
          "metadata": {
            "needs_background": "light"
          }
        },
        {
          "output_type": "stream",
          "name": "stdout",
          "text": [
            "index[ 1 ]\n",
            "기존의 점 좌표(time1) :  [331 368]\n",
            "현재의 점 좌표(time2) :  [333 369]\n",
            "기존의 점 색상(time1)   :  [ 23   9 134]\n",
            "현재의 점 색상(time2)   :  [ 19   0 132]\n"
          ]
        },
        {
          "output_type": "display_data",
          "data": {
            "text/plain": [
              "<Figure size 432x288 with 2 Axes>"
            ],
            "image/png": "[encoded data removed]"
          },
          "metadata": {
            "needs_background": "light"
          }
        },
        {
          "output_type": "stream",
          "name": "stdout",
          "text": [
            "index[ 2 ]\n",
            "기존의 점 좌표(time1) :  [545 299]\n",
            "현재의 점 좌표(time2) :  [545 299]\n",
            "기존의 점 색상(time1)   :  [ 89 120 181]\n",
            "현재의 점 색상(time2)   :  [ 89 121 180]\n"
          ]
        },
        {
          "output_type": "display_data",
          "data": {
            "text/plain": [
              "<Figure size 432x288 with 2 Axes>"
            ],
            "image/png": "[encoded data removed]"
          },
          "metadata": {
            "needs_background": "light"
          }
        },
        {
          "output_type": "stream",
          "name": "stdout",
          "text": [
            "index[ 3 ]\n",
            "기존의 점 좌표(time1) :  [201 294]\n",
            "현재의 점 좌표(time2) :  [204 294]\n",
            "기존의 점 색상(time1)   :  [ 89 120 171]\n",
            "현재의 점 색상(time2)   :  [ 91 128 188]\n"
          ]
        },
        {
          "output_type": "display_data",
          "data": {
            "text/plain": [
              "<Figure size 432x288 with 2 Axes>"
            ],
            "image/png": "[encoded data removed]"
          },
          "metadata": {
            "needs_background": "light"
          }
        },
        {
          "output_type": "stream",
          "name": "stdout",
          "text": [
            "index[ 4 ]\n",
            "기존의 점 좌표(time1) :  [431 260]\n",
            "현재의 점 좌표(time2) :  [428 263]\n",
            "기존의 점 색상(time1)   :  [22 53 84]\n",
            "현재의 점 색상(time2)   :  [4 3 0]\n"
          ]
        },
        {
          "output_type": "display_data",
          "data": {
            "text/plain": [
              "<Figure size 432x288 with 2 Axes>"
            ],
            "image/png": "[encoded data removed]"
          },
          "metadata": {
            "needs_background": "light"
          }
        },
        {
          "output_type": "stream",
          "name": "stdout",
          "text": [
            "index[ 5 ]\n",
            "기존의 점 좌표(time1) :  [120 252]\n",
            "현재의 점 좌표(time2) :  [118 254]\n",
            "기존의 점 색상(time1)   :  [ 8 49 81]\n",
            "현재의 점 색상(time2)   :  [4 4 4]\n"
          ]
        },
        {
          "output_type": "display_data",
          "data": {
            "text/plain": [
              "<Figure size 432x288 with 2 Axes>"
            ],
            "image/png": "[encoded data removed]"
          },
          "metadata": {
            "needs_background": "light"
          }
        },
        {
          "output_type": "stream",
          "name": "stdout",
          "text": [
            "index[ 6 ]\n",
            "기존의 점 좌표(time1) :  [252 186]\n",
            "현재의 점 좌표(time2) :  [252 186]\n",
            "기존의 점 색상(time1)   :  [0 0 1]\n",
            "현재의 점 색상(time2)   :  [2 0 1]\n"
          ]
        },
        {
          "output_type": "display_data",
          "data": {
            "text/plain": [
              "<Figure size 432x288 with 2 Axes>"
            ],
            "image/png": "[encoded data removed]"
          },
          "metadata": {
            "needs_background": "light"
          }
        },
        {
          "output_type": "stream",
          "name": "stdout",
          "text": [
            "index[ 7 ]\n",
            "기존의 점 좌표(time1) :  [575 150]\n",
            "현재의 점 좌표(time2) :  [576 151]\n",
            "기존의 점 색상(time1)   :  [ 89 124 190]\n",
            "현재의 점 색상(time2)   :  [ 86 123 183]\n"
          ]
        },
        {
          "output_type": "display_data",
          "data": {
            "text/plain": [
              "<Figure size 432x288 with 2 Axes>"
            ],
            "image/png": "[encoded data removed]"
          },
          "metadata": {
            "needs_background": "light"
          }
        },
        {
          "output_type": "stream",
          "name": "stdout",
          "text": [
            "index[ 8 ]\n",
            "기존의 점 좌표(time1) :  [103 109]\n",
            "현재의 점 좌표(time2) :  [103 109]\n",
            "기존의 점 색상(time1)   :  [ 87 123 187]\n",
            "현재의 점 색상(time2)   :  [ 89 124 187]\n"
          ]
        },
        {
          "output_type": "display_data",
          "data": {
            "text/plain": [
              "<Figure size 432x288 with 2 Axes>"
            ],
            "image/png": "[encoded data removed]"
          },
          "metadata": {
            "needs_background": "light"
          }
        },
        {
          "output_type": "stream",
          "name": "stdout",
          "text": [
            "index[ 9 ]\n",
            "기존의 점 좌표(time1) :  [463 101]\n",
            "현재의 점 좌표(time2) :  [462 101]\n",
            "기존의 점 색상(time1)   :  [10  1  0]\n",
            "현재의 점 색상(time2)   :  [10  0  0]\n"
          ]
        },
        {
          "output_type": "display_data",
          "data": {
            "text/plain": [
              "<Figure size 432x288 with 2 Axes>"
            ],
            "image/png": "[encoded data removed]"
          },
          "metadata": {
            "needs_background": "light"
          }
        },
        {
          "output_type": "stream",
          "name": "stdout",
          "text": [
            "index[ 10 ]\n",
            "기존의 점 좌표(time1) :  [302  80]\n",
            "현재의 점 좌표(time2) :  [302  80]\n",
            "기존의 점 색상(time1)   :  [13 55 84]\n",
            "현재의 점 색상(time2)   :  [13 55 84]\n"
          ]
        },
        {
          "output_type": "display_data",
          "data": {
            "text/plain": [
              "<Figure size 432x288 with 2 Axes>"
            ],
            "image/png": "[encoded data removed]"
          },
          "metadata": {
            "needs_background": "light"
          }
        },
        {
          "output_type": "stream",
          "name": "stdout",
          "text": [
            "index[ 8 ]\n",
            "기존의 점 좌표(time1) :  [103 109]\n",
            "현재의 점 좌표(time2) :  [103 109]\n",
            "기존의 점 색상(time1)   :  [ 87 123 187]\n",
            "현재의 점 색상(time2)   :  [ 89 124 187]\n"
          ]
        },
        {
          "output_type": "execute_result",
          "data": {
            "text/plain": [
              "<matplotlib.image.AxesImage at 0x7f7839c07e10>"
            ]
          },
          "metadata": {},
          "execution_count": 2
        },
        {
          "output_type": "display_data",
          "data": {
            "text/plain": [
              "<Figure size 432x288 with 1 Axes>"
            ],
            "image/png": "[encoded data removed]"
          },
          "metadata": {
            "needs_background": "light"
          }
        },
        {
          "output_type": "display_data",
          "data": {
            "text/plain": [
              "<Figure size 1728x1728 with 1 Axes>"
            ],
            "image/png": "[encoded data removed]"
          },
          "metadata": {
            "needs_background": "light"
          }
        }
      ]
    },
    {
      "cell_type": "code",
      "source": [],
      "metadata": {
        "id": "8SByz84RujQV"
      },
      "execution_count": null,
      "outputs": []
    },
    {
      "cell_type": "markdown",
      "source": [
        "메모\n",
        "getSpatialMoments\n",
        "외곽선의 유사도 비교\n",
        "cvContourMoments\n",
        "\n",
        "notion에 내용 추가\n",
        "https://datascienceschool.net/03%20machine%20learning/03.02.03%20%EC%9D%B4%EB%AF%B8%EC%A7%80%20%EC%BB%A8%ED%88%AC%EC%96%B4.html\n",
        "image moment : contour에 대한 특징값\n"
      ],
      "metadata": {
        "id": "Sh-dkvcauzZx"
      }
    }
  ]
}